{
 "cells": [
  {
   "cell_type": "markdown",
   "id": "43103ef9",
   "metadata": {},
   "source": [
    "# Exercises Numpy"
   ]
  },
  {
   "cell_type": "code",
   "execution_count": 1,
   "id": "f04141eb",
   "metadata": {},
   "outputs": [],
   "source": [
    "import numpy as np "
   ]
  },
  {
   "cell_type": "markdown",
   "id": "eb3a7efd",
   "metadata": {},
   "source": [
    "### Creating Arrays"
   ]
  },
  {
   "cell_type": "markdown",
   "id": "6be7fddb",
   "metadata": {},
   "source": [
    "<strong><ins>All arrays mentioned here are numpy arrays as long as opposite is not mentioned</ins></strong> please solve the problems with this knowledge."
   ]
  },
  {
   "cell_type": "markdown",
   "id": "471f6974",
   "metadata": {},
   "source": [
    "Create an array in size of 4*3 and assing it to arr variable "
   ]
  },
  {
   "cell_type": "code",
   "execution_count": 10,
   "id": "12801da8",
   "metadata": {},
   "outputs": [],
   "source": [
    "arr = np.zeros((4,3))"
   ]
  },
  {
   "cell_type": "markdown",
   "id": "c82af80c",
   "metadata": {},
   "source": [
    "Create an array with elements from 0 to 15 (both inclusive) and assing it to arr2 variable   \n",
    "Then print the shape of the arr2  \n",
    "copy the arr2 to arr2_copy  \n",
    "print arr2, arr2_copy   \n",
    "Change its shape to 4*4 and assign to itself   \n",
    "print arr2, arr2_copy again    "
   ]
  },
  {
   "cell_type": "code",
   "execution_count": 27,
   "id": "dd0fad30",
   "metadata": {},
   "outputs": [
    {
     "name": "stdout",
     "output_type": "stream",
     "text": [
      "(16,)\n"
     ]
    }
   ],
   "source": [
    "arr2 = np.arange(0,16)\n",
    "print(arr2.shape)\n",
    "\n",
    "arr2_copy = arr2.copy()"
   ]
  },
  {
   "cell_type": "code",
   "execution_count": 28,
   "id": "14e1498d",
   "metadata": {},
   "outputs": [
    {
     "name": "stdout",
     "output_type": "stream",
     "text": [
      "[ 0  1  2  3  4  5  6  7  8  9 10 11 12 13 14 15]\n"
     ]
    }
   ],
   "source": [
    "print(arr2)"
   ]
  },
  {
   "cell_type": "code",
   "execution_count": 29,
   "id": "7ce3c862",
   "metadata": {},
   "outputs": [
    {
     "name": "stdout",
     "output_type": "stream",
     "text": [
      "[ 0  1  2  3  4  5  6  7  8  9 10 11 12 13 14 15]\n"
     ]
    }
   ],
   "source": [
    "print(arr2_copy)"
   ]
  },
  {
   "cell_type": "code",
   "execution_count": 31,
   "id": "f06405d6",
   "metadata": {},
   "outputs": [],
   "source": [
    "arr2=arr2.reshape((4,4))"
   ]
  },
  {
   "cell_type": "code",
   "execution_count": 32,
   "id": "b6c7ea2f",
   "metadata": {
    "scrolled": true
   },
   "outputs": [
    {
     "name": "stdout",
     "output_type": "stream",
     "text": [
      "[[ 0  1  2  3]\n",
      " [ 4  5  6  7]\n",
      " [ 8  9 10 11]\n",
      " [12 13 14 15]]\n"
     ]
    }
   ],
   "source": [
    "print(arr2)"
   ]
  },
  {
   "cell_type": "code",
   "execution_count": 33,
   "id": "40172742",
   "metadata": {},
   "outputs": [
    {
     "name": "stdout",
     "output_type": "stream",
     "text": [
      "[ 0  1  2  3  4  5  6  7  8  9 10 11 12 13 14 15]\n"
     ]
    }
   ],
   "source": [
    "print(arr2_copy)"
   ]
  },
  {
   "cell_type": "markdown",
   "id": "5c312718",
   "metadata": {},
   "source": [
    "### Some Functions "
   ]
  },
  {
   "cell_type": "markdown",
   "id": "4a6c4e92",
   "metadata": {},
   "source": [
    "##### How many dimensions there are in arr2 variable? "
   ]
  },
  {
   "cell_type": "code",
   "execution_count": 34,
   "id": "03c9544c",
   "metadata": {},
   "outputs": [
    {
     "data": {
      "text/plain": [
       "2"
      ]
     },
     "execution_count": 34,
     "metadata": {},
     "output_type": "execute_result"
    }
   ],
   "source": [
    "arr2.ndim"
   ]
  },
  {
   "cell_type": "markdown",
   "id": "0d24dc16",
   "metadata": {},
   "source": [
    "##### Describe the number of rows and columns in arr2 variable "
   ]
  },
  {
   "cell_type": "code",
   "execution_count": 36,
   "id": "e4c71e21",
   "metadata": {},
   "outputs": [
    {
     "data": {
      "text/plain": [
       "(4, 4)"
      ]
     },
     "execution_count": 36,
     "metadata": {},
     "output_type": "execute_result"
    }
   ],
   "source": [
    "arr2.shape"
   ]
  },
  {
   "cell_type": "markdown",
   "id": "fb0109ad",
   "metadata": {},
   "source": [
    "##### How many elements there are in arr2 variable?"
   ]
  },
  {
   "cell_type": "code",
   "execution_count": 37,
   "id": "4f12ea1a",
   "metadata": {},
   "outputs": [
    {
     "data": {
      "text/plain": [
       "16"
      ]
     },
     "execution_count": 37,
     "metadata": {},
     "output_type": "execute_result"
    }
   ],
   "source": [
    "arr2.size"
   ]
  },
  {
   "cell_type": "markdown",
   "id": "3fb5ef4e",
   "metadata": {},
   "source": [
    "##### Print the data type of arr2"
   ]
  },
  {
   "cell_type": "code",
   "execution_count": 38,
   "id": "a1e76cbb",
   "metadata": {},
   "outputs": [
    {
     "data": {
      "text/plain": [
       "dtype('int64')"
      ]
     },
     "execution_count": 38,
     "metadata": {},
     "output_type": "execute_result"
    }
   ],
   "source": [
    "arr2.dtype"
   ]
  },
  {
   "cell_type": "markdown",
   "id": "3d6dc446",
   "metadata": {},
   "source": [
    "#### Print the data location in the memory"
   ]
  },
  {
   "cell_type": "code",
   "execution_count": 39,
   "id": "b480c54e",
   "metadata": {},
   "outputs": [
    {
     "data": {
      "text/plain": [
       "<memory at 0x00000242B8AFB1D0>"
      ]
     },
     "execution_count": 39,
     "metadata": {},
     "output_type": "execute_result"
    }
   ],
   "source": [
    "arr2.data"
   ]
  },
  {
   "cell_type": "markdown",
   "id": "f50930f0",
   "metadata": {},
   "source": [
    "### Some Statistics About the Arrays"
   ]
  },
  {
   "cell_type": "markdown",
   "id": "e2bd3bf5",
   "metadata": {},
   "source": [
    "#### Show 50th percentile of arr2"
   ]
  },
  {
   "cell_type": "code",
   "execution_count": 40,
   "id": "cf2ff1b6",
   "metadata": {},
   "outputs": [
    {
     "data": {
      "text/plain": [
       "np.float64(7.5)"
      ]
     },
     "execution_count": 40,
     "metadata": {},
     "output_type": "execute_result"
    }
   ],
   "source": [
    "np.percentile(arr2,50)"
   ]
  },
  {
   "cell_type": "markdown",
   "id": "b94b76aa",
   "metadata": {},
   "source": [
    "#### Show mean of arr2 elements"
   ]
  },
  {
   "cell_type": "code",
   "execution_count": 41,
   "id": "26ebc870",
   "metadata": {},
   "outputs": [
    {
     "data": {
      "text/plain": [
       "np.float64(7.5)"
      ]
     },
     "execution_count": 41,
     "metadata": {},
     "output_type": "execute_result"
    }
   ],
   "source": [
    "np.mean(arr2)"
   ]
  },
  {
   "cell_type": "markdown",
   "id": "1ab10d37",
   "metadata": {},
   "source": [
    "#### Show median of arr2 elements"
   ]
  },
  {
   "cell_type": "code",
   "execution_count": 42,
   "id": "973b1ff7",
   "metadata": {},
   "outputs": [
    {
     "data": {
      "text/plain": [
       "np.float64(7.5)"
      ]
     },
     "execution_count": 42,
     "metadata": {},
     "output_type": "execute_result"
    }
   ],
   "source": [
    "np.median(arr2)"
   ]
  },
  {
   "cell_type": "markdown",
   "id": "7040730d",
   "metadata": {},
   "source": [
    "##### Create one dimensional normally distrubuted array with mean 3 standard deviation is 4 and has elements of 100"
   ]
  },
  {
   "cell_type": "code",
   "execution_count": 44,
   "id": "23bb52de",
   "metadata": {},
   "outputs": [],
   "source": [
    "#from numpy import random"
   ]
  },
  {
   "cell_type": "code",
   "execution_count": 43,
   "id": "5e246a9f",
   "metadata": {},
   "outputs": [],
   "source": [
    "s = np.random.normal(3, 4, 100)"
   ]
  },
  {
   "cell_type": "markdown",
   "id": "5320324e",
   "metadata": {},
   "source": [
    "#### Install matplotlib library for plotting purposes and then plot the s \n",
    "- search to find how to do"
   ]
  },
  {
   "cell_type": "code",
   "execution_count": 45,
   "id": "a8ca4a2e",
   "metadata": {},
   "outputs": [
    {
     "data": {
      "image/png": "[encoded data removed]",
      "text/plain": [
       "<Figure size 640x480 with 1 Axes>"
      ]
     },
     "metadata": {},
     "output_type": "display_data"
    }
   ],
   "source": [
    "import matplotlib.pyplot as plt\n",
    "plt.hist(s)\n",
    "plt.show()"
   ]
  },
  {
   "cell_type": "markdown",
   "id": "f0ba30ab",
   "metadata": {},
   "source": [
    "____"
   ]
  }
 ],
 "metadata": {
  "kernelspec": {
   "display_name": "Python 3",
   "language": "python",
   "name": "python3"
  },
  "language_info": {
   "codemirror_mode": {
    "name": "ipython",
    "version": 3
   },
   "file_extension": ".py",
   "mimetype": "text/x-python",
   "name": "python",
   "nbconvert_exporter": "python",
   "pygments_lexer": "ipython3",
   "version": "3.13.0"
  }
 },
 "nbformat": 4,
 "nbformat_minor": 5
}
